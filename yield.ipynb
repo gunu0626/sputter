{
 "cells": [
  {
   "cell_type": "markdown",
   "metadata": {},
   "source": [
    "##### Bohdansky's semi-emprical expression"
   ]
  },
  {
   "cell_type": "code",
   "execution_count": 2,
   "metadata": {},
   "outputs": [],
   "source": [
    "import numpy as np\n",
    "import matplotlib.pyplot as plt"
   ]
  },
  {
   "cell_type": "code",
   "execution_count": 4,
   "metadata": {},
   "outputs": [],
   "source": [
    "COPPER_MASS = 63.54 #[AMU]\n",
    "ARGON_MASS = 39.94 #[AMU]\n",
    "TUNGSTEN_MASS = 183.84 #[AMU]\n",
    "COPPER_SB_ENERGY = 3.48 #[eV]\n",
    "TUNGSTEN_SB_ENERGY = 11.75 #[eV]"
   ]
  },
  {
   "cell_type": "code",
   "execution_count": 19,
   "metadata": {},
   "outputs": [
    {
     "name": "stderr",
     "output_type": "stream",
     "text": [
      "C:\\Users\\GUNU\\anaconda3\\envs\\py_36\\lib\\site-packages\\ipykernel_launcher.py:8: RuntimeWarning: invalid value encountered in double_scalars\n",
      "  \n"
     ]
    }
   ],
   "source": [
    "def sputter_yield(TARGET_MASS, TARGET_SB_ENERGY, ION_MASS, ION_ENERGY):\n",
    "    gamma = 4*ION_MASS*TARGET_MASS/(ION_MASS + TARGET_MASS)**2\n",
    "    if (ION_MASS/TARGET_MASS > 0.3):\n",
    "        E_th = 8*TARGET_SB_ENERGY*(ION_MASS/TARGET_MASS)**(2/5)\n",
    "    else:\n",
    "        E_th = TARGET_SB_ENERGY/(gamma*(1 - gamma))\n",
    "\n",
    "    return 6.4e-3*TARGET_MASS*gamma**(5/3)*ION_ENERGY**0.25*(1 - E_th/ION_ENERGY)**3.5\n",
    "\n",
    "ION_ENERGY_RANGE = np.logspace(1,5,100)\n",
    "\n",
    "TUNGSTEN_yield = list(map(lambda ION_ENERGY : sputter_yield(TUNGSTEN_MASS, TUNGSTEN_SB_ENERGY, ARGON_MASS, ION_ENERGY), ION_ENERGY_RANGE))\n",
    "COPPER_yield = list(map(lambda ION_ENERGY : sputter_yield(COPPER_MASS, COPPER_SB_ENERGY, ARGON_MASS, ION_ENERGY), ION_ENERGY_RANGE))\n",
    "    "
   ]
  },
  {
   "cell_type": "code",
   "execution_count": 20,
   "metadata": {},
   "outputs": [
    {
     "data": {
      "text/plain": [
       "(10, 151285.73508376017)"
      ]
     },
     "execution_count": 20,
     "metadata": {},
     "output_type": "execute_result"
    },
    {
     "data": {
      "image/png": "[encoded data removed]",
      "text/plain": [
       "<Figure size 432x288 with 1 Axes>"
      ]
     },
     "metadata": {
      "needs_background": "light"
     },
     "output_type": "display_data"
    }
   ],
   "source": [
    "plt.plot(ION_ENERGY_RANGE, TUNGSTEN_yield, ION_ENERGY_RANGE , COPPER_yield)\n",
    "plt.xscale('log')\n",
    "plt.yscale('log')\n",
    "plt.legend(['W','Cu'])\n",
    "plt.ylim(0.01,)\n",
    "plt.xlim(10,)"
   ]
  }
 ],
 "metadata": {
  "interpreter": {
   "hash": "70f771d3bc6c150054e9839a714d038f9e349eb6984246b50653f4883bd59734"
  },
  "kernelspec": {
   "display_name": "Python 3.6.10 ('py_36')",
   "language": "python",
   "name": "python3"
  },
  "language_info": {
   "codemirror_mode": {
    "name": "ipython",
    "version": 3
   },
   "file_extension": ".py",
   "mimetype": "text/x-python",
   "name": "python",
   "nbconvert_exporter": "python",
   "pygments_lexer": "ipython3",
   "version": "3.6.10"
  },
  "orig_nbformat": 4
 },
 "nbformat": 4,
 "nbformat_minor": 2
}
